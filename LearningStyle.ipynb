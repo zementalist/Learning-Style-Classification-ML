{
 "cells": [
  {
   "cell_type": "code",
   "execution_count": 1,
   "metadata": {},
   "outputs": [],
   "source": [
    "import re\n",
    "import pickle\n",
    "import pandas as pd\n",
    "from nltk.corpus import stopwords\n",
    "from nltk.stem import PorterStemmer\n",
    "from sklearn.preprocessing import LabelEncoder\n",
    "from sklearn.linear_model import LogisticRegression\n",
    "from sklearn.model_selection import train_test_split\n",
    "from sklearn.feature_extraction.text import CountVectorizer"
   ]
  },
  {
   "cell_type": "code",
   "execution_count": 2,
   "metadata": {},
   "outputs": [],
   "source": [
    "# Initialize Stemming class to use 'stem' function\n",
    "ps = PorterStemmer()\n",
    "\n",
    "# Select the top n words occured in the dataset\n",
    "n_top_words = 550\n",
    "\n",
    "# Import english stopwords\n",
    "stopwords.words(\"english\")\n",
    "\n",
    "#nltk.download('stopwords') # Run this if 'english stopwords not found'\n",
    "\n",
    "# Read dataset\n",
    "dataset = pd.read_csv(\"data1.csv\")"
   ]
  },
  {
   "cell_type": "code",
   "execution_count": 3,
   "metadata": {},
   "outputs": [],
   "source": [
    "# Function to preprocess text\n",
    "def clean(text):\n",
    "    text = re.sub(\"[^a-zA-z]\", \" \", text).lower()\n",
    "    text = text.split()\n",
    "    text = [ ps.stem(word) for word in text if word not in set(stopwords.words(\"english\"))]\n",
    "    text = \" \".join(text)\n",
    "    return text\n",
    "\n",
    "# Function to encode the text using an object of CountVectorizer\n",
    "def encode(text, cv):\n",
    "    encoded_text = cv.transform(list([text])).toarray()\n",
    "    return encoded_text\n",
    "\n",
    "# Function to decode the classification result\n",
    "def decode(result, label_encoder):\n",
    "    decoded_result = label_encoder.inverse_transform(result)[0]\n",
    "    return decoded_result"
   ]
  },
  {
   "cell_type": "code",
   "execution_count": null,
   "metadata": {},
   "outputs": [],
   "source": [
    "# Clean sentences\n",
    "sentences = dataset[\"Sentence\"].apply(clean)"
   ]
  },
  {
   "cell_type": "code",
   "execution_count": 13,
   "metadata": {},
   "outputs": [],
   "source": [
    "# Initialize CountVectorizer so it uses a specific number for top occuring words\n",
    "count_vector = CountVectorizer(max_features = n_top_words)\n",
    "\n",
    "# Transform all the sentences to a rows and vector form\n",
    "X = count_vector.fit_transform(sentences).toarray()\n",
    "\n",
    "# Set y (the output) to the second column of the dataset\n",
    "y = dataset.iloc[:, 1]\n",
    "\n",
    "# Initialize label encoder and encode the learning style labels\n",
    "label_enc = LabelEncoder()\n",
    "y = label_enc.fit_transform(y)\n",
    "\n",
    "# Split the dataset into training set and testing set\n",
    "X_train, X_test, y_train, y_test = train_test_split(X, y, test_size=0.2)"
   ]
  },
  {
   "cell_type": "code",
   "execution_count": 14,
   "metadata": {},
   "outputs": [
    {
     "data": {
      "text/plain": [
       "LogisticRegression()"
      ]
     },
     "execution_count": 14,
     "metadata": {},
     "output_type": "execute_result"
    }
   ],
   "source": [
    "# Bulding the model and applying it to the encoded data\n",
    "classifier = LogisticRegression()\n",
    "classifier.fit(X_train, y_train)"
   ]
  },
  {
   "cell_type": "code",
   "execution_count": 15,
   "metadata": {},
   "outputs": [
    {
     "name": "stdout",
     "output_type": "stream",
     "text": [
      "Model score = 94.46601941747574\n"
     ]
    }
   ],
   "source": [
    "# Evaluating the model accuracy\n",
    "score = classifier.score(X_test, y_test) * 100\n",
    "print(\"Model score = \" + str(score))"
   ]
  },
  {
   "cell_type": "code",
   "execution_count": 16,
   "metadata": {},
   "outputs": [
    {
     "name": "stdout",
     "output_type": "stream",
     "text": [
      "Kinesthetic\n",
      "Visual\n",
      "Auditory\n"
     ]
    }
   ],
   "source": [
    "# Testing the model on 3 samples\n",
    "\n",
    "# Initialize data\n",
    "sentence1 = \"I like to try out things to understand how it works, 'experiencing' is my power to learn\"\n",
    "sentence2 = \"All what we do is visualizing how things work and imagine new possibilities\"\n",
    "sentence3 = \"I hear the wind call my name, the sound that leads me home again\"\n",
    "\n",
    "# Preprocess & Encode data\n",
    "sample1 = encode(clean(sentence1), count_vector)\n",
    "sample2 = encode(clean(sentence2), count_vector)\n",
    "sample3 = encode(clean(sentence3), count_vector)\n",
    "\n",
    "# Classify & Decode results\n",
    "print( decode(classifier.predict(sample1), label_enc) ) # Kinesthetic\n",
    "print( decode(classifier.predict(sample2), label_enc) ) # Visual\n",
    "print( decode(classifier.predict(sample3), label_enc) ) # Auditory"
   ]
  },
  {
   "cell_type": "code",
   "execution_count": 17,
   "metadata": {},
   "outputs": [],
   "source": [
    "# Save model\n",
    "with open(\"classifier.pkl\", 'wb') as file:\n",
    "        pickle.dump(classifier, file)"
   ]
  }
 ],
 "metadata": {
  "kernelspec": {
   "display_name": "Python 3",
   "language": "python",
   "name": "python3"
  },
  "language_info": {
   "codemirror_mode": {
    "name": "ipython",
    "version": 3
   },
   "file_extension": ".py",
   "mimetype": "text/x-python",
   "name": "python",
   "nbconvert_exporter": "python",
   "pygments_lexer": "ipython3",
   "version": "3.7.4"
  }
 },
 "nbformat": 4,
 "nbformat_minor": 2
}
